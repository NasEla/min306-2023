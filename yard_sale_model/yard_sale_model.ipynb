{
 "cells": [
  {
   "cell_type": "code",
   "execution_count": 5,
   "id": "51779256",
   "metadata": {},
   "outputs": [],
   "source": [
    "import numpy as np\n",
    "import random\n",
    "import matplotlib.pyplot as plt\n",
    "import seaborn as sns\n",
    "from tqdm import tqdm"
   ]
  },
  {
   "cell_type": "code",
   "execution_count": 2,
   "id": "f8676803",
   "metadata": {},
   "outputs": [],
   "source": [
    "def random_pairs(lst):\n",
    "    \"\"\"\n",
    "    Takes a list with an even number of elements and returns a list of random paired elements of the list.\n",
    "    \"\"\"\n",
    "    random.shuffle(lst)  # Shuffle the list in place\n",
    "    pairs = []\n",
    "    for i in range(0, len(lst), 2):\n",
    "        pairs.append([lst[i], lst[i+1]])\n",
    "    return pairs"
   ]
  },
  {
   "cell_type": "code",
   "execution_count": 3,
   "id": "6c5a9597",
   "metadata": {},
   "outputs": [
    {
     "name": "stderr",
     "output_type": "stream",
     "text": [
      "100%|█████████████████████████████████| 100000/100000 [00:33<00:00, 2947.25it/s]\n"
     ]
    }
   ],
   "source": [
    "n = 1000\n",
    "rounds = 100000\n",
    "starting_balance = 1000\n",
    "wager = 0.2\n",
    "wallets = n*[starting_balance]\n",
    "\n",
    "new_wallets = []\n",
    "\n",
    "for r in tqdm(range(rounds)):\n",
    "    pairs = random_pairs(wallets)\n",
    "    for p in pairs:\n",
    "        w1 = p[0]+p[1]*wager\n",
    "        w2 = p[1]*(1-wager)\n",
    "        new_wallets.extend([w1,w2])\n",
    "    wallets = new_wallets\n",
    "    new_wallets = []"
   ]
  },
  {
   "cell_type": "code",
   "execution_count": 6,
   "id": "84df5a02",
   "metadata": {},
   "outputs": [
    {
     "data": {
      "image/png": "[encoded data removed]",
      "text/plain": [
       "<Figure size 432x288 with 1 Axes>"
      ]
     },
     "metadata": {
      "needs_background": "light"
     },
     "output_type": "display_data"
    },
    {
     "name": "stdout",
     "output_type": "stream",
     "text": [
      "Richest wallet: $3500\n",
      "Poorest wallet: $100\n"
     ]
    }
   ],
   "source": [
    "wallets = np.sort([round(w/100)*100 for w in wallets])\n",
    "\n",
    "ax = sns.histplot(wallets)\n",
    "ax.set(xlabel='Wealth', ylabel='Count', title=\"Distribution of the Wealth n={} rounds={}\".format(n, rounds))\n",
    "plt.show()\n",
    "print(\"Richest wallet: ${}\".format(max(wallets)))\n",
    "print(\"Poorest wallet: ${}\".format(min(wallets)))"
   ]
  }
 ],
 "metadata": {
  "kernelspec": {
   "display_name": "Python 3 (ipykernel)",
   "language": "python",
   "name": "python3"
  },
  "language_info": {
   "codemirror_mode": {
    "name": "ipython",
    "version": 3
   },
   "file_extension": ".py",
   "mimetype": "text/x-python",
   "name": "python",
   "nbconvert_exporter": "python",
   "pygments_lexer": "ipython3",
   "version": "3.8.10"
  }
 },
 "nbformat": 4,
 "nbformat_minor": 5
}
