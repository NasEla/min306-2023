{
 "cells": [
  {
   "cell_type": "raw",
   "metadata": {},
   "source": [
    "---\n",
    "title: YARD SALE MODEL\n",
    "author: ''\n",
    "format:\n",
    "  html:\n",
    "    code-fold: true\n",
    "bibliography: references.bib\n",
    "toc: true\n",
    "number-sections: true\n",
    "---"
   ],
   "id": "3c98ecc4"
  },
  {
   "cell_type": "markdown",
   "metadata": {},
   "source": [
    "## YARD SALE MODEL\n"
   ],
   "id": "ccff6fc0"
  },
  {
   "cell_type": "code",
   "metadata": {},
   "source": [
    "#| fig-cap: \"A bar plot about the yard sale game\"\n",
    "import numpy as np\n",
    "import random\n",
    "import matplotlib.pyplot as plt\n",
    "import seaborn as sns\n",
    "\n",
    "def random_pairs(lst):\n",
    "    \"\"\"\n",
    "    Takes a list with an even number of elements and returns a list of random paired elements of the list.\n",
    "    \"\"\"\n",
    "    random.shuffle(lst)  # Shuffle the list in place\n",
    "    pairs = []\n",
    "    for i in range(0, len(lst), 2):\n",
    "        pairs.append([lst[i], lst[i+1]])\n",
    "    return pairs\n",
    "\n",
    "# Computations take around 30 seconds.\n",
    "n = 1000\n",
    "rounds = 100000\n",
    "starting_balance = 1000\n",
    "wager = 0.2\n",
    "wallets = n*[starting_balance]\n",
    "\n",
    "new_wallets = []\n",
    "\n",
    "for r in range(rounds):\n",
    "    pairs = random_pairs(wallets)\n",
    "    for p in pairs:\n",
    "        w1 = p[0]+p[1]*wager\n",
    "        w2 = p[1]*(1-wager)\n",
    "        new_wallets.extend([w1,w2])\n",
    "    wallets = new_wallets\n",
    "    new_wallets = []\n",
    "\n",
    "wallets = np.sort([round(w/100)*100 for w in wallets])\n",
    "\n",
    "ax = sns.histplot(wallets)\n",
    "ax.set(xlabel='Wealth', ylabel='Count', title=\"Wealth Distribution n={} rounds={}\".format(n, rounds))\n",
    "plt.show()\n",
    "print(\"Richest wallet: ${}\".format(max(wallets)))\n",
    "print(\"Poorest wallet: ${}\".format(min(wallets)))"
   ],
   "id": "6e5c15fc",
   "execution_count": null,
   "outputs": []
  },
  {
   "cell_type": "markdown",
   "metadata": {},
   "source": [
    "## References\n",
    "https://pudding.cool/2022/12/yard-sale/"
   ],
   "id": "eb1f2ffe"
  }
 ],
 "metadata": {
  "kernelspec": {
   "name": "python3",
   "language": "python",
   "display_name": "Python 3 (ipykernel)"
  }
 },
 "nbformat": 4,
 "nbformat_minor": 5
}
